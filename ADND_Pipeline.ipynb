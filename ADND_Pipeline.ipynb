{
  "cells": [
    {
      "cell_type": "code",
      "execution_count": null,
      "metadata": {
        "id": "r9isvzCGc1MH"
      },
      "outputs": [],
      "source": [
        "import locale\n",
        "locale.getpreferredencoding = lambda: \"UTF-8\""
      ]
    },
    {
      "cell_type": "code",
      "execution_count": null,
      "metadata": {
        "id": "2zaqlkUKPSWB"
      },
      "outputs": [],
      "source": [
        "%%capture\n",
        "!sudo apt-get install ffmpeg\n",
        "!pip install TTS\n",
        "!pip install librosa==0.9.1 numpy==1.21.6 opencv-contrib-python>=4.2.0.34 opencv-python==4.7.0.72 torch==2.0.0 torchvision==0.15.1 tqdm==4.65.0 numba==0.56.4 "
      ]
    },
    {
      "cell_type": "code",
      "execution_count": null,
      "metadata": {
        "id": "F08ENE08IaCQ",
        "colab": {
          "base_uri": "https://localhost:8080/"
        },
        "outputId": "19c33532-a735-4aba-c5e2-a3f4c22e51b0"
      },
      "outputs": [
        {
          "output_type": "stream",
          "name": "stdout",
          "text": [
            "Mounted at /content/drive\n"
          ]
        }
      ],
      "source": [
        "from google.colab import drive\n",
        "\n",
        "drive.mount('/content/drive')\n",
        "# drive.flush_and_unmount()"
      ]
    },
    {
      "cell_type": "code",
      "execution_count": null,
      "metadata": {
        "id": "LComD9AGCRMS"
      },
      "outputs": [],
      "source": [
        "video_file_path = '/content/drive/MyDrive/Wav2Lip/Video_BingCsilling.mp4' #@param {type:\"string\"}\n",
        "output_audio_file_name = 'audio.wav' #@param {type:\"string\"}\n",
        "text_to_speech = \"Factorio is a game in which you build and maintain factories. You will be mining resources, researching technologies, building infrastructure, automating production, and fighting enemies. Use your imagination to design your factory, combine simple elements into ingenious structures, apply management skills to keep it working, and protect it from the creatures who don't really like you.\" #@param {type:\"string\"}"
      ]
    },
    {
      "cell_type": "code",
      "execution_count": null,
      "metadata": {
        "id": "IzUuf7rOCo-p",
        "colab": {
          "base_uri": "https://localhost:8080/"
        },
        "outputId": "829c926d-6f5d-4ca8-9fde-12bc553e0f0b"
      },
      "outputs": [
        {
          "output_type": "stream",
          "name": "stdout",
          "text": [
            "/content\n",
            "ffmpeg version 4.2.7-0ubuntu0.1 Copyright (c) 2000-2022 the FFmpeg developers\n",
            "  built with gcc 9 (Ubuntu 9.4.0-1ubuntu1~20.04.1)\n",
            "  configuration: --prefix=/usr --extra-version=0ubuntu0.1 --toolchain=hardened --libdir=/usr/lib/x86_64-linux-gnu --incdir=/usr/include/x86_64-linux-gnu --arch=amd64 --enable-gpl --disable-stripping --enable-avresample --disable-filter=resample --enable-avisynth --enable-gnutls --enable-ladspa --enable-libaom --enable-libass --enable-libbluray --enable-libbs2b --enable-libcaca --enable-libcdio --enable-libcodec2 --enable-libflite --enable-libfontconfig --enable-libfreetype --enable-libfribidi --enable-libgme --enable-libgsm --enable-libjack --enable-libmp3lame --enable-libmysofa --enable-libopenjpeg --enable-libopenmpt --enable-libopus --enable-libpulse --enable-librsvg --enable-librubberband --enable-libshine --enable-libsnappy --enable-libsoxr --enable-libspeex --enable-libssh --enable-libtheora --enable-libtwolame --enable-libvidstab --enable-libvorbis --enable-libvpx --enable-libwavpack --enable-libwebp --enable-libx265 --enable-libxml2 --enable-libxvid --enable-libzmq --enable-libzvbi --enable-lv2 --enable-omx --enable-openal --enable-opencl --enable-opengl --enable-sdl2 --enable-libdc1394 --enable-libdrm --enable-libiec61883 --enable-nvenc --enable-chromaprint --enable-frei0r --enable-libx264 --enable-shared\n",
            "  libavutil      56. 31.100 / 56. 31.100\n",
            "  libavcodec     58. 54.100 / 58. 54.100\n",
            "  libavformat    58. 29.100 / 58. 29.100\n",
            "  libavdevice    58.  8.100 / 58.  8.100\n",
            "  libavfilter     7. 57.100 /  7. 57.100\n",
            "  libavresample   4.  0.  0 /  4.  0.  0\n",
            "  libswscale      5.  5.100 /  5.  5.100\n",
            "  libswresample   3.  5.100 /  3.  5.100\n",
            "  libpostproc    55.  5.100 / 55.  5.100\n",
            "Input #0, mov,mp4,m4a,3gp,3g2,mj2, from '/content/drive/MyDrive/Wav2Lip/Video_BingCsilling.mp4':\n",
            "  Metadata:\n",
            "    major_brand     : isom\n",
            "    minor_version   : 512\n",
            "    compatible_brands: isomiso2avc1mp41\n",
            "    encoder         : Lavf59.27.100\n",
            "  Duration: 00:04:54.73, start: 0.000000, bitrate: 491 kb/s\n",
            "    Stream #0:0(und): Audio: aac (LC) (mp4a / 0x6134706D), 44100 Hz, mono, fltp, 70 kb/s (default)\n",
            "    Metadata:\n",
            "      handler_name    : SoundHandler\n",
            "    Stream #0:1(und): Video: h264 (High) (avc1 / 0x31637661), yuv420p, 1280x720 [SAR 1:1 DAR 16:9], 414 kb/s, 25 fps, 25 tbr, 12800 tbn, 50 tbc (default)\n",
            "    Metadata:\n",
            "      handler_name    : VideoHandler\n",
            "      encoder         : Lavc59.37.100 libx264\n",
            "Stream mapping:\n",
            "  Stream #0:0 -> #0:0 (aac (native) -> pcm_s16le (native))\n",
            "Press [q] to stop, [?] for help\n",
            "Output #0, wav, to 'audio.wav':\n",
            "  Metadata:\n",
            "    major_brand     : isom\n",
            "    minor_version   : 512\n",
            "    compatible_brands: isomiso2avc1mp41\n",
            "    ISFT            : Lavf58.29.100\n",
            "    Stream #0:0(und): Audio: pcm_s16le ([1][0][0][0] / 0x0001), 44100 Hz, mono, s16, 705 kb/s (default)\n",
            "    Metadata:\n",
            "      handler_name    : SoundHandler\n",
            "      encoder         : Lavc58.54.100 pcm_s16le\n",
            "size=    2584kB time=00:00:30.00 bitrate= 705.6kbits/s speed= 773x    \n",
            "video:0kB audio:2584kB subtitle:0kB other streams:0kB global headers:0kB muxing overhead: 0.002948%\n",
            "ffmpeg version 4.2.7-0ubuntu0.1 Copyright (c) 2000-2022 the FFmpeg developers\n",
            "  built with gcc 9 (Ubuntu 9.4.0-1ubuntu1~20.04.1)\n",
            "  configuration: --prefix=/usr --extra-version=0ubuntu0.1 --toolchain=hardened --libdir=/usr/lib/x86_64-linux-gnu --incdir=/usr/include/x86_64-linux-gnu --arch=amd64 --enable-gpl --disable-stripping --enable-avresample --disable-filter=resample --enable-avisynth --enable-gnutls --enable-ladspa --enable-libaom --enable-libass --enable-libbluray --enable-libbs2b --enable-libcaca --enable-libcdio --enable-libcodec2 --enable-libflite --enable-libfontconfig --enable-libfreetype --enable-libfribidi --enable-libgme --enable-libgsm --enable-libjack --enable-libmp3lame --enable-libmysofa --enable-libopenjpeg --enable-libopenmpt --enable-libopus --enable-libpulse --enable-librsvg --enable-librubberband --enable-libshine --enable-libsnappy --enable-libsoxr --enable-libspeex --enable-libssh --enable-libtheora --enable-libtwolame --enable-libvidstab --enable-libvorbis --enable-libvpx --enable-libwavpack --enable-libwebp --enable-libx265 --enable-libxml2 --enable-libxvid --enable-libzmq --enable-libzvbi --enable-lv2 --enable-omx --enable-openal --enable-opencl --enable-opengl --enable-sdl2 --enable-libdc1394 --enable-libdrm --enable-libiec61883 --enable-nvenc --enable-chromaprint --enable-frei0r --enable-libx264 --enable-shared\n",
            "  libavutil      56. 31.100 / 56. 31.100\n",
            "  libavcodec     58. 54.100 / 58. 54.100\n",
            "  libavformat    58. 29.100 / 58. 29.100\n",
            "  libavdevice    58.  8.100 / 58.  8.100\n",
            "  libavfilter     7. 57.100 /  7. 57.100\n",
            "  libavresample   4.  0.  0 /  4.  0.  0\n",
            "  libswscale      5.  5.100 /  5.  5.100\n",
            "  libswresample   3.  5.100 /  3.  5.100\n",
            "  libpostproc    55.  5.100 / 55.  5.100\n",
            "Input #0, mov,mp4,m4a,3gp,3g2,mj2, from '/content/drive/MyDrive/Wav2Lip/Video_BingCsilling.mp4':\n",
            "  Metadata:\n",
            "    major_brand     : isom\n",
            "    minor_version   : 512\n",
            "    compatible_brands: isomiso2avc1mp41\n",
            "    encoder         : Lavf59.27.100\n",
            "  Duration: 00:04:54.73, start: 0.000000, bitrate: 491 kb/s\n",
            "    Stream #0:0(und): Audio: aac (LC) (mp4a / 0x6134706D), 44100 Hz, mono, fltp, 70 kb/s (default)\n",
            "    Metadata:\n",
            "      handler_name    : SoundHandler\n",
            "    Stream #0:1(und): Video: h264 (High) (avc1 / 0x31637661), yuv420p, 1280x720 [SAR 1:1 DAR 16:9], 414 kb/s, 25 fps, 25 tbr, 12800 tbn, 50 tbc (default)\n",
            "    Metadata:\n",
            "      handler_name    : VideoHandler\n",
            "      encoder         : Lavc59.37.100 libx264\n",
            "Stream mapping:\n",
            "  Stream #0:1 -> #0:0 (h264 (native) -> h264 (libx264))\n",
            "  Stream #0:0 -> #0:1 (aac (native) -> aac (native))\n",
            "Press [q] to stop, [?] for help\n",
            "\u001b[1;36m[libx264 @ 0x56458d5e60c0] \u001b[0musing SAR=1/1\n",
            "\u001b[1;36m[libx264 @ 0x56458d5e60c0] \u001b[0musing cpu capabilities: MMX2 SSE2Fast SSSE3 SSE4.2 AVX FMA3 BMI2 AVX2 AVX512\n",
            "\u001b[1;36m[libx264 @ 0x56458d5e60c0] \u001b[0mprofile High, level 3.1\n",
            "\u001b[1;36m[libx264 @ 0x56458d5e60c0] \u001b[0m264 - core 155 r2917 0a84d98 - H.264/MPEG-4 AVC codec - Copyleft 2003-2018 - http://www.videolan.org/x264.html - options: cabac=1 ref=3 deblock=1:0:0 analyse=0x3:0x113 me=hex subme=7 psy=1 psy_rd=1.00:0.00 mixed_ref=1 me_range=16 chroma_me=1 trellis=1 8x8dct=1 cqm=0 deadzone=21,11 fast_pskip=1 chroma_qp_offset=-2 threads=3 lookahead_threads=1 sliced_threads=0 nr=0 decimate=1 interlaced=0 bluray_compat=0 constrained_intra=0 bframes=3 b_pyramid=2 b_adapt=1 b_bias=0 direct=1 weightb=1 open_gop=0 weightp=2 keyint=250 keyint_min=25 scenecut=40 intra_refresh=0 rc_lookahead=40 rc=crf mbtree=1 crf=23.0 qcomp=0.60 qpmin=0 qpmax=69 qpstep=4 ip_ratio=1.40 aq=1:1.00\n",
            "Output #0, mp4, to 'output.mp4':\n",
            "  Metadata:\n",
            "    major_brand     : isom\n",
            "    minor_version   : 512\n",
            "    compatible_brands: isomiso2avc1mp41\n",
            "    encoder         : Lavf58.29.100\n",
            "    Stream #0:0(und): Video: h264 (libx264) (avc1 / 0x31637661), yuv420p, 1280x720 [SAR 1:1 DAR 16:9], q=-1--1, 25 fps, 12800 tbn, 25 tbc (default)\n",
            "    Metadata:\n",
            "      handler_name    : VideoHandler\n",
            "      encoder         : Lavc58.54.100 libx264\n",
            "    Side data:\n",
            "      cpb: bitrate max/min/avg: 0/0/0 buffer size: 0 vbv_delay: -1\n",
            "    Stream #0:1(und): Audio: aac (LC) (mp4a / 0x6134706D), 44100 Hz, mono, fltp, 69 kb/s (default)\n",
            "    Metadata:\n",
            "      handler_name    : SoundHandler\n",
            "      encoder         : Lavc58.54.100 aac\n",
            "frame=  750 fps= 18 q=-1.0 Lsize=    4019kB time=00:00:30.00 bitrate=1097.5kbits/s speed=0.729x    \n",
            "video:3738kB audio:255kB subtitle:0kB other streams:0kB global headers:0kB muxing overhead: 0.648681%\n",
            "\u001b[1;36m[libx264 @ 0x56458d5e60c0] \u001b[0mframe I:3     Avg QP:18.97  size: 37969\n",
            "\u001b[1;36m[libx264 @ 0x56458d5e60c0] \u001b[0mframe P:189   Avg QP:21.27  size: 10423\n",
            "\u001b[1;36m[libx264 @ 0x56458d5e60c0] \u001b[0mframe B:558   Avg QP:23.11  size:  3125\n",
            "\u001b[1;36m[libx264 @ 0x56458d5e60c0] \u001b[0mconsecutive B-frames:  0.7%  0.0%  1.2% 98.1%\n",
            "\u001b[1;36m[libx264 @ 0x56458d5e60c0] \u001b[0mmb I  I16..4: 14.9% 71.0% 14.1%\n",
            "\u001b[1;36m[libx264 @ 0x56458d5e60c0] \u001b[0mmb P  I16..4:  3.8%  5.7%  0.2%  P16..4: 38.8% 11.4%  5.3%  0.0%  0.0%    skip:34.8%\n",
            "\u001b[1;36m[libx264 @ 0x56458d5e60c0] \u001b[0mmb B  I16..4:  1.3%  1.6%  0.0%  B16..8: 27.0%  2.3%  0.1%  direct: 2.7%  skip:65.0%  L0:52.6% L1:44.7% BI: 2.8%\n",
            "\u001b[1;36m[libx264 @ 0x56458d5e60c0] \u001b[0m8x8 transform intra:58.2% inter:87.1%\n",
            "\u001b[1;36m[libx264 @ 0x56458d5e60c0] \u001b[0mcoded y,uvDC,uvAC intra: 20.5% 69.9% 15.0% inter: 6.9% 19.2% 0.3%\n",
            "\u001b[1;36m[libx264 @ 0x56458d5e60c0] \u001b[0mi16 v,h,dc,p: 42% 30% 14% 14%\n",
            "\u001b[1;36m[libx264 @ 0x56458d5e60c0] \u001b[0mi8 v,h,dc,ddl,ddr,vr,hd,vl,hu: 25% 17% 46%  2%  2%  2%  2%  2%  2%\n",
            "\u001b[1;36m[libx264 @ 0x56458d5e60c0] \u001b[0mi4 v,h,dc,ddl,ddr,vr,hd,vl,hu: 32% 24% 15%  4%  6%  6%  6%  5%  4%\n",
            "\u001b[1;36m[libx264 @ 0x56458d5e60c0] \u001b[0mi8c dc,h,v,p: 50% 26% 20%  5%\n",
            "\u001b[1;36m[libx264 @ 0x56458d5e60c0] \u001b[0mWeighted P-Frames: Y:13.2% UV:9.0%\n",
            "\u001b[1;36m[libx264 @ 0x56458d5e60c0] \u001b[0mref P L0: 56.9%  8.5% 24.4%  9.2%  1.0%\n",
            "\u001b[1;36m[libx264 @ 0x56458d5e60c0] \u001b[0mref B L0: 64.3% 30.4%  5.3%\n",
            "\u001b[1;36m[libx264 @ 0x56458d5e60c0] \u001b[0mref B L1: 85.5% 14.5%\n",
            "\u001b[1;36m[libx264 @ 0x56458d5e60c0] \u001b[0mkb/s:1020.61\n",
            "\u001b[1;36m[aac @ 0x56458d615e80] \u001b[0mQavg: 123.037\n"
          ]
        }
      ],
      "source": [
        "# %%capture\n",
        "%cd /content\n",
        "!ffmpeg -y -t 30 -i $video_file_path $output_audio_file_name\n",
        "!ffmpeg -y -t 30 -i $video_file_path output.mp4"
      ]
    },
    {
      "cell_type": "code",
      "execution_count": null,
      "metadata": {
        "id": "l1yTUpWSRhZS"
      },
      "outputs": [],
      "source": [
        "%%capture\n",
        "from TTS.api import TTS\n",
        "\n",
        "model_name = TTS.list_models()[0]\n",
        "tts = TTS(model_name=\"tts_models/multilingual/multi-dataset/your_tts\", progress_bar=False, gpu=True)\n",
        "tts.tts_to_file(text_to_speech, speaker_wav=output_audio_file_name, language=\"en\", file_path=\"output.wav\")"
      ]
    },
    {
      "cell_type": "code",
      "execution_count": null,
      "metadata": {
        "id": "2EPqcE1kg1QW"
      },
      "outputs": [],
      "source": [
        "%%capture\n",
        "# If you need the checkpoint for face detection\n",
        "!git clone https://github.com/Rudrabha/Wav2Lip.git\n",
        "!wget https://www.adrianbulat.com/downloads/python-fan/s3fd-619a316812.pth -O ./Wav2Lip/face_detection/detection/sfd/s3fd.pth"
      ]
    },
    {
      "cell_type": "code",
      "execution_count": null,
      "metadata": {
        "id": "reJlaL1jqrOz",
        "colab": {
          "base_uri": "https://localhost:8080/"
        },
        "outputId": "8e6ec4ca-a996-4a6f-e3c2-a5f1f9533877"
      },
      "outputs": [
        {
          "output_type": "stream",
          "name": "stdout",
          "text": [
            "/content/Wav2Lip\n"
          ]
        }
      ],
      "source": [
        "%cd Wav2Lip"
      ]
    },
    {
      "cell_type": "code",
      "execution_count": null,
      "metadata": {
        "id": "yM042dZqiY1O",
        "colab": {
          "base_uri": "https://localhost:8080/"
        },
        "outputId": "39bd346a-510f-4748-933a-448a8cc9fc4e"
      },
      "outputs": [
        {
          "output_type": "stream",
          "name": "stdout",
          "text": [
            "Using cuda for inference.\n",
            "Reading video frames...\n",
            "Number of frames available for inference: 750\n",
            "/content/Wav2Lip/audio.py:100: FutureWarning: Pass sr=16000, n_fft=800 as keyword args. From version 0.10 passing these as positional arguments will result in an error\n",
            "  return librosa.filters.mel(hp.sample_rate, hp.n_fft, n_mels=hp.num_mels,\n",
            "(80, 1976)\n",
            "Length of mel chunks: 614\n",
            "  0% 0/5 [00:00<?, ?it/s]\n",
            "  0% 0/39 [00:00<?, ?it/s]\u001b[A\n",
            "  3% 1/39 [03:42<2:20:42, 222.18s/it]\u001b[A\n",
            "  5% 2/39 [03:45<57:42, 93.59s/it]   \u001b[A\n",
            "  8% 3/39 [03:49<31:30, 52.50s/it]\u001b[A\n",
            " 10% 4/39 [03:52<19:18, 33.11s/it]\u001b[A\n",
            " 13% 5/39 [03:55<12:38, 22.31s/it]\u001b[A\n",
            " 15% 6/39 [03:59<08:42, 15.82s/it]\u001b[A\n",
            " 18% 7/39 [04:02<06:15, 11.75s/it]\u001b[A\n",
            " 21% 8/39 [04:05<04:41,  9.07s/it]\u001b[A\n",
            " 23% 9/39 [04:08<03:35,  7.20s/it]\u001b[A\n",
            " 26% 10/39 [04:12<02:51,  5.93s/it]\u001b[A\n",
            " 28% 11/39 [04:15<02:23,  5.11s/it]\u001b[A\n",
            " 31% 12/39 [04:18<02:06,  4.68s/it]\u001b[A\n",
            " 33% 13/39 [04:22<01:49,  4.21s/it]\u001b[A\n",
            " 36% 14/39 [04:25<01:37,  3.89s/it]\u001b[A\n",
            " 38% 15/39 [04:28<01:27,  3.66s/it]\u001b[A\n",
            " 41% 16/39 [04:31<01:22,  3.59s/it]\u001b[A\n",
            " 44% 17/39 [04:35<01:17,  3.53s/it]\u001b[A\n",
            " 46% 18/39 [04:38<01:11,  3.42s/it]\u001b[A\n",
            " 49% 19/39 [04:41<01:07,  3.35s/it]\u001b[A\n",
            " 51% 20/39 [04:44<01:04,  3.37s/it]\u001b[A\n",
            " 54% 21/39 [04:48<01:01,  3.41s/it]\u001b[A\n",
            " 56% 22/39 [04:51<00:57,  3.36s/it]\u001b[A\n",
            " 59% 23/39 [04:54<00:52,  3.30s/it]\u001b[A\n",
            " 62% 24/39 [04:58<00:49,  3.31s/it]\u001b[A\n",
            " 64% 25/39 [05:02<00:48,  3.46s/it]\u001b[A\n",
            " 67% 26/39 [05:05<00:44,  3.42s/it]\u001b[A\n",
            " 69% 27/39 [05:08<00:40,  3.36s/it]\u001b[A\n",
            " 72% 28/39 [05:11<00:36,  3.31s/it]\u001b[A\n",
            " 74% 29/39 [05:15<00:33,  3.37s/it]\u001b[A\n",
            " 77% 30/39 [05:18<00:30,  3.40s/it]\u001b[A\n",
            " 79% 31/39 [05:21<00:26,  3.36s/it]\u001b[A\n",
            " 82% 32/39 [05:25<00:23,  3.32s/it]\u001b[A\n",
            " 85% 33/39 [05:28<00:20,  3.36s/it]\u001b[A\n",
            " 87% 34/39 [05:32<00:16,  3.38s/it]\u001b[A\n",
            " 90% 35/39 [05:35<00:13,  3.33s/it]\u001b[A\n",
            " 92% 36/39 [05:38<00:09,  3.27s/it]\u001b[A\n",
            " 95% 37/39 [05:41<00:06,  3.27s/it]\u001b[A\n",
            " 97% 38/39 [05:45<00:03,  3.45s/it]\u001b[A\n",
            "100% 39/39 [06:01<00:00,  9.28s/it]\n",
            "Load checkpoint from: /content/drive/MyDrive/Wav2Lip/wav2lip_gan.pth\n",
            "Model loaded\n",
            "100% 5/5 [06:38<00:00, 79.78s/it]\n",
            "ffmpeg version 4.2.7-0ubuntu0.1 Copyright (c) 2000-2022 the FFmpeg developers\n",
            "  built with gcc 9 (Ubuntu 9.4.0-1ubuntu1~20.04.1)\n",
            "  configuration: --prefix=/usr --extra-version=0ubuntu0.1 --toolchain=hardened --libdir=/usr/lib/x86_64-linux-gnu --incdir=/usr/include/x86_64-linux-gnu --arch=amd64 --enable-gpl --disable-stripping --enable-avresample --disable-filter=resample --enable-avisynth --enable-gnutls --enable-ladspa --enable-libaom --enable-libass --enable-libbluray --enable-libbs2b --enable-libcaca --enable-libcdio --enable-libcodec2 --enable-libflite --enable-libfontconfig --enable-libfreetype --enable-libfribidi --enable-libgme --enable-libgsm --enable-libjack --enable-libmp3lame --enable-libmysofa --enable-libopenjpeg --enable-libopenmpt --enable-libopus --enable-libpulse --enable-librsvg --enable-librubberband --enable-libshine --enable-libsnappy --enable-libsoxr --enable-libspeex --enable-libssh --enable-libtheora --enable-libtwolame --enable-libvidstab --enable-libvorbis --enable-libvpx --enable-libwavpack --enable-libwebp --enable-libx265 --enable-libxml2 --enable-libxvid --enable-libzmq --enable-libzvbi --enable-lv2 --enable-omx --enable-openal --enable-opencl --enable-opengl --enable-sdl2 --enable-libdc1394 --enable-libdrm --enable-libiec61883 --enable-nvenc --enable-chromaprint --enable-frei0r --enable-libx264 --enable-shared\n",
            "  libavutil      56. 31.100 / 56. 31.100\n",
            "  libavcodec     58. 54.100 / 58. 54.100\n",
            "  libavformat    58. 29.100 / 58. 29.100\n",
            "  libavdevice    58.  8.100 / 58.  8.100\n",
            "  libavfilter     7. 57.100 /  7. 57.100\n",
            "  libavresample   4.  0.  0 /  4.  0.  0\n",
            "  libswscale      5.  5.100 /  5.  5.100\n",
            "  libswresample   3.  5.100 /  3.  5.100\n",
            "  libpostproc    55.  5.100 / 55.  5.100\n",
            "\u001b[0;33mGuessed Channel Layout for Input Stream #0.0 : mono\n",
            "\u001b[0mInput #0, wav, from '../output.wav':\n",
            "  Duration: 00:00:24.69, bitrate: 256 kb/s\n",
            "    Stream #0:0: Audio: pcm_s16le ([1][0][0][0] / 0x0001), 16000 Hz, mono, s16, 256 kb/s\n",
            "Input #1, avi, from 'temp/result.avi':\n",
            "  Metadata:\n",
            "    encoder         : Lavf59.27.100\n",
            "  Duration: 00:00:24.56, start: 0.000000, bitrate: 1990 kb/s\n",
            "    Stream #1:0: Video: mpeg4 (Simple Profile) (DIVX / 0x58564944), yuv420p, 1280x720 [SAR 1:1 DAR 16:9], 1986 kb/s, 25 fps, 25 tbr, 25 tbn, 25 tbc\n",
            "Stream mapping:\n",
            "  Stream #1:0 -> #0:0 (mpeg4 (native) -> h264 (libx264))\n",
            "  Stream #0:0 -> #0:1 (pcm_s16le (native) -> aac (native))\n",
            "Press [q] to stop, [?] for help\n",
            "\u001b[1;36m[libx264 @ 0x5582e7a35f80] \u001b[0m\u001b[0;33m-qscale is ignored, -crf is recommended.\n",
            "\u001b[0m\u001b[1;36m[libx264 @ 0x5582e7a35f80] \u001b[0musing SAR=1/1\n",
            "\u001b[1;36m[libx264 @ 0x5582e7a35f80] \u001b[0musing cpu capabilities: MMX2 SSE2Fast SSSE3 SSE4.2 AVX FMA3 BMI2 AVX2 AVX512\n",
            "\u001b[1;36m[libx264 @ 0x5582e7a35f80] \u001b[0mprofile High, level 3.1\n",
            "\u001b[1;36m[libx264 @ 0x5582e7a35f80] \u001b[0m264 - core 155 r2917 0a84d98 - H.264/MPEG-4 AVC codec - Copyleft 2003-2018 - http://www.videolan.org/x264.html - options: cabac=1 ref=3 deblock=1:0:0 analyse=0x3:0x113 me=hex subme=7 psy=1 psy_rd=1.00:0.00 mixed_ref=1 me_range=16 chroma_me=1 trellis=1 8x8dct=1 cqm=0 deadzone=21,11 fast_pskip=1 chroma_qp_offset=-2 threads=3 lookahead_threads=1 sliced_threads=0 nr=0 decimate=1 interlaced=0 bluray_compat=0 constrained_intra=0 bframes=3 b_pyramid=2 b_adapt=1 b_bias=0 direct=1 weightb=1 open_gop=0 weightp=2 keyint=250 keyint_min=25 scenecut=40 intra_refresh=0 rc_lookahead=40 rc=crf mbtree=1 crf=23.0 qcomp=0.60 qpmin=0 qpmax=69 qpstep=4 ip_ratio=1.40 aq=1:1.00\n",
            "Output #0, mp4, to 'results/result_voice.mp4':\n",
            "  Metadata:\n",
            "    encoder         : Lavf58.29.100\n",
            "    Stream #0:0: Video: h264 (libx264) (avc1 / 0x31637661), yuv420p(progressive), 1280x720 [SAR 1:1 DAR 16:9], q=-1--1, 25 fps, 12800 tbn, 25 tbc\n",
            "    Metadata:\n",
            "      encoder         : Lavc58.54.100 libx264\n",
            "    Side data:\n",
            "      cpb: bitrate max/min/avg: 0/0/0 buffer size: 0 vbv_delay: -1\n",
            "    Stream #0:1: Audio: aac (LC) (mp4a / 0x6134706D), 16000 Hz, mono, fltp, 69 kb/s\n",
            "    Metadata:\n",
            "      encoder         : Lavc58.54.100 aac\n",
            "frame=  614 fps= 20 q=-1.0 Lsize=    3594kB time=00:00:24.70 bitrate=1191.8kbits/s speed=0.807x    \n",
            "video:3363kB audio:215kB subtitle:0kB other streams:0kB global headers:0kB muxing overhead: 0.443608%\n",
            "\u001b[1;36m[libx264 @ 0x5582e7a35f80] \u001b[0mframe I:3     Avg QP:18.96  size: 32636\n",
            "\u001b[1;36m[libx264 @ 0x5582e7a35f80] \u001b[0mframe P:268   Avg QP:20.69  size:  8404\n",
            "\u001b[1;36m[libx264 @ 0x5582e7a35f80] \u001b[0mframe B:343   Avg QP:21.98  size:  3185\n",
            "\u001b[1;36m[libx264 @ 0x5582e7a35f80] \u001b[0mconsecutive B-frames: 23.1%  2.6% 13.7% 60.6%\n",
            "\u001b[1;36m[libx264 @ 0x5582e7a35f80] \u001b[0mmb I  I16..4: 20.5% 74.7%  4.8%\n",
            "\u001b[1;36m[libx264 @ 0x5582e7a35f80] \u001b[0mmb P  I16..4:  2.9%  9.2%  0.1%  P16..4: 33.0%  6.9%  3.4%  0.0%  0.0%    skip:44.5%\n",
            "\u001b[1;36m[libx264 @ 0x5582e7a35f80] \u001b[0mmb B  I16..4:  0.9%  2.9%  0.0%  B16..8: 28.8%  1.7%  0.1%  direct: 2.5%  skip:63.2%  L0:52.5% L1:45.5% BI: 2.0%\n",
            "\u001b[1;36m[libx264 @ 0x5582e7a35f80] \u001b[0m8x8 transform intra:75.2% inter:87.6%\n",
            "\u001b[1;36m[libx264 @ 0x5582e7a35f80] \u001b[0mcoded y,uvDC,uvAC intra: 28.4% 66.0% 9.5% inter: 6.6% 17.0% 0.4%\n",
            "\u001b[1;36m[libx264 @ 0x5582e7a35f80] \u001b[0mi16 v,h,dc,p: 41% 33% 19%  7%\n",
            "\u001b[1;36m[libx264 @ 0x5582e7a35f80] \u001b[0mi8 v,h,dc,ddl,ddr,vr,hd,vl,hu: 25% 20% 49%  1%  1%  1%  1%  1%  1%\n",
            "\u001b[1;36m[libx264 @ 0x5582e7a35f80] \u001b[0mi4 v,h,dc,ddl,ddr,vr,hd,vl,hu: 38% 27% 15%  3%  4%  4%  3%  3%  2%\n",
            "\u001b[1;36m[libx264 @ 0x5582e7a35f80] \u001b[0mi8c dc,h,v,p: 44% 28% 23%  5%\n",
            "\u001b[1;36m[libx264 @ 0x5582e7a35f80] \u001b[0mWeighted P-Frames: Y:2.2% UV:1.9%\n",
            "\u001b[1;36m[libx264 @ 0x5582e7a35f80] \u001b[0mref P L0: 64.4%  8.7% 18.0%  8.6%  0.2%\n",
            "\u001b[1;36m[libx264 @ 0x5582e7a35f80] \u001b[0mref B L0: 71.8% 21.5%  6.7%\n",
            "\u001b[1;36m[libx264 @ 0x5582e7a35f80] \u001b[0mref B L1: 91.8%  8.2%\n",
            "\u001b[1;36m[libx264 @ 0x5582e7a35f80] \u001b[0mkb/s:1121.42\n",
            "\u001b[1;36m[aac @ 0x5582e7a35300] \u001b[0mQavg: 9833.763\n"
          ]
        }
      ],
      "source": [
        "!python ./inference.py --checkpoint_path /content/drive/MyDrive/Wav2Lip/wav2lip_gan.pth --face ../output.mp4 --audio ../output.wav --nosmooth # --pads -120 0 0 0 # top right bottom left"
      ]
    },
    {
      "cell_type": "markdown",
      "metadata": {
        "id": "dA7tehZbfj8t"
      },
      "source": []
    }
  ],
  "metadata": {
    "accelerator": "GPU",
    "colab": {
      "machine_shape": "hm",
      "provenance": []
    },
    "gpuClass": "standard",
    "kernelspec": {
      "display_name": "Python 3",
      "name": "python3"
    },
    "language_info": {
      "name": "python"
    }
  },
  "nbformat": 4,
  "nbformat_minor": 0
}